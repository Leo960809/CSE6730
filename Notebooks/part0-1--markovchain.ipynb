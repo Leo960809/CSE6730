{
 "cells": [
  {
   "cell_type": "markdown",
   "metadata": {},
   "source": [
    "# Tutorial: Workers' Safety Behavior in Construction Site\n",
    "\n",
    "In this project, we are modeling and simulating workers’ safety behavior in the construction site. Workers’  safety behavior are categoried into two types: (1) safety risk adverse and (2) safety risk taking based on their risk preference when considering taking safety measures. We use Markov Chain Monte Carlo (MCMC) and dynamics on networks methods(Cellular Automata mainly) to study the system. The goal of the study is to observe the dynamics of the workers’ safety behaviors over a certain period of time.\n",
    "\n",
    "\n",
    "* **[Part 0]**: Background of the topic \n",
    "* **[Part 1]**: This notebook is to simulate the change of workers' safety behavior with Markov Chain Monte Carlo (MCMC) method. \n",
    "* **[Part 2]**: This part explains how to use and implement dynamics on networks methods to study the workers' safety behavior in constuction site. The main dynamical model we apply to the network is Cellular Automata."
   ]
  },
  {
   "cell_type": "markdown",
   "metadata": {},
   "source": [
    "# Part 0: Background \n",
    "\n",
    "Construction site is one of the most dangerous workplaces due to its unique, dynamic and temporary natures.[1] Safety behavior of construction workers, which reflects the overall safety performance of a construction project is a significant focus in the area of construction safety management.\n",
    "\n",
    "In this project, we categorize an individual worker’s  safety behavior into two types: (1) safety risk adverse and (2) safety risk taking. They are drawn based on worker’s risk preference when considering taking safety measures, like basic PPE, fall protection equipment, protective gloves, etc, Such a behavior can change over a certain period of time due to many factors.[2] Putting up all individual workers’ safety behaviors, we can see the safety behaviors of workers of a construction project as a whole. And the dynamics over a certain period of time can be simulated and possible conclusions regarding safety performance can be drawn from that. \n",
    "\n",
    ">[1] Al-Humaidi, H. M., & Tan, F. H. (2010). Construction safety in Kuwait. Journal of Performance of Constructed Facilities, 24(1), 70-77.\n",
    "\n",
    ">[2] Mohammadi, A., Tavakolan, M., & Khosravi, Y. (2018). Factors influencing safety performance on construction projects: A review. Safety science, 109, 382-397."
   ]
  },
  {
   "cell_type": "markdown",
   "metadata": {},
   "source": [
    "# Part 1: Markov Chain Monte Carlo (MCMC) Model\n",
    "\n",
    "This notebook is to simulate the change of workers' safety behavior with Markov Chain Monte Carlo (MCMC) method. "
   ]
  },
  {
   "cell_type": "markdown",
   "metadata": {},
   "source": [
    "## Setup\n",
    "\n",
    "Run the following code cells to get started."
   ]
  },
  {
   "cell_type": "code",
   "execution_count": 1,
   "metadata": {},
   "outputs": [],
   "source": [
    "# Multidimensional array tool\n",
    "import numpy as np\n",
    "\n",
    "# Core plotting support\n",
    "import matplotlib.pyplot as plt\n",
    "\n",
    "# To implement pseudo-random number generators\n",
    "import random"
   ]
  },
  {
   "cell_type": "markdown",
   "metadata": {},
   "source": [
    "## Conceptual Model\n",
    "\n",
    "Markov Chain Mote Carlo (MCMC) method is a stochastic model which enables us to simulate a sequence of possible events in which the probability of each event depends only on the state attained in the previous event. With MCMC integration method, we can fit the models of virtually unlimited complexity because of its “memoryless” feature. [1]\n",
    "\n",
    "In Markov Chain, we consider people's attitudes toward safety behaviors to be following certain probabilistic rules, which can be separated into safety risk adverse and safety risk taking. This is based on the assumption that everyone as an individual has his behavior patterns, or saying ‘habits’. For example, if a worker tends to avoid safety risk during the work, it would be much less likely for him to choose not to wear PPE at a certain timestep, we can make the probabilistic assumption that when transiting to another timestep, the probability of being safety risk adverse in the following state will be higher than the workers who get used to take safety risk. \n",
    "\n",
    "Basically, we need to define a matrix to describe the status for each timestep and randomly generate a matrix to represent the initial state. After that, we need to construct a probability transition matrix $P = [p_{ij}]$ where $p_i = Pr[i|j]$ is the conditional probability of state $i$ given the previous state $j$. \n",
    "\n",
    "Consider the two states mentioned above (safety risk adverse and safety risk taking), we can make an assumption on the transit matrix to simulate the probability of wearing safety equipment for each worker based on the behaviors in the former state. In sum, we can evaluate the overall safety level regarding workers’ behavior among all the time states.\n",
    "\n",
    "> [1] Carlin, B. P., & Chib, S. (1995), [Bayesian Model Choice via Markov Chain Monte Carlo Methods](https://www.jstor.org/stable/2346151?seq=1#metadata_info_tab_contents)_ (Journal of the Royal Statistical Society. Series B (Methodological), 473-484)."
   ]
  },
  {
   "cell_type": "markdown",
   "metadata": {},
   "source": [
    "First of all, let's associate the two possible states with the following integers:"
   ]
  },
  {
   "cell_type": "code",
   "execution_count": 2,
   "metadata": {},
   "outputs": [],
   "source": [
    "RISK_ADVERSE = 0\n",
    "RISK_TAKING = 1"
   ]
  },
  {
   "cell_type": "markdown",
   "metadata": {},
   "source": [
    "## Markov Process\n",
    "\n",
    "To simulate a Markov process, we can define a class named 'MarkovChain'."
   ]
  },
  {
   "cell_type": "code",
   "execution_count": 3,
   "metadata": {},
   "outputs": [],
   "source": [
    "class MarkovChain(object):\n",
    "\n",
    "    def __init__(self, transit_prob):\n",
    "    \t\"\"\"\n",
    "    \tInitialize the Markov Chain model.\n",
    "\n",
    "    \tParameters\n",
    "    \t---------- \n",
    "    \ttransit_prob: dict \n",
    "            A dict representing the transit matrix of the system.\n",
    "    \t    e.g. {'state1': {'state1': 0.5, 'state2': 0.5}, \n",
    "    \t          'state2': {...}}\n",
    "    \t\"\"\"\n",
    "    \tself.transit_prob = transit_prob\n",
    "    \tself.states = list(transit_prob.keys())\n",
    " \t\t\n",
    "    def next_state(self, current_state):\n",
    "        \"\"\"\n",
    "        Returns the new state at the next timestep.\n",
    "\n",
    "        Parameters\n",
    "        ----------\n",
    "        current_state: str or int\n",
    "            Current state of the system.\n",
    "            e.g. 'RISK_ADVERSE' or 0\n",
    "        \"\"\"\n",
    "        return np.random.choice(self.states, \n",
    "            p = [self.transit_prob[current_state][next_state]\n",
    "            for next_state in self.states])\n",
    "\n",
    "    def generate_states(self, current_state, K):\n",
    "        \"\"\"\n",
    "        Generate the new state of the system after K timesteps.\n",
    "\n",
    "        Parameters\n",
    "        ----------\n",
    "        current_state: str or int\n",
    "            Current state of the system.\n",
    "            e.g. 'RISK_ADVERSE' or 0\n",
    "\n",
    "        K: int\n",
    "            The number of timesteps.\n",
    "        \"\"\"\n",
    "        future_states = []\n",
    "\n",
    "        for k in range(K):\n",
    "            next_state = self.next_state(current_state)\n",
    "            future_states.append(next_state)\n",
    "            current_state = next_state\n",
    "\n",
    "        return future_states"
   ]
  },
  {
   "cell_type": "markdown",
   "metadata": {},
   "source": [
    "## Markov Chain Monte Carlo (MCMC) Simulation Preprocessing\n",
    "\n",
    "The following code cell contains a few functions defined to help implement the MCMC method for workers' safety behavior model. "
   ]
  },
  {
   "cell_type": "code",
   "execution_count": 4,
   "metadata": {},
   "outputs": [],
   "source": [
    "def count(G):\n",
    "\t\"\"\"\n",
    "\tCount the number of elements of a NumPy array G \n",
    "\twhose entries are 1.\n",
    "\t\"\"\"\n",
    "\treturn len(np.where(G)[0])\n",
    "\n",
    "def find(G):\n",
    "\t\"\"\"\n",
    "\tReturns the locations of elements of a NumPy array G \n",
    "\twhose entries are 1.\n",
    "\t\"\"\"\n",
    "\tassert type(G) is np.ndarray\n",
    "\treturn {i for i in np.where(G)[0]}\n",
    "\n",
    "def risk_adverse(G):\n",
    "\t\"\"\"\n",
    "\tReturn a new grid whose entries are 1 \n",
    "\twherever the original grid in G is RISK_ADVERSE \n",
    "\tor 0 otherwise.\n",
    "\t\"\"\"\n",
    "\treturn (G == RISK_ADVERSE).astype(int)\n",
    "\n",
    "def risk_taking(G):\n",
    "\t\"\"\"\n",
    "\tReturn a new grid whose entries are 1\n",
    "\twherever the original grid in G is RISK_TAKING\n",
    "\tor 0 otherwise.\n",
    "\t\"\"\"\n",
    "\treturn (G == RISK_TAKING).astype(int)\n",
    "\n",
    "def sim(G, prob, K):\n",
    "\t\"\"\"\n",
    "\tSimulate a Markov Chain system.\n",
    "\n",
    "\tParameters\n",
    "\t----------\n",
    "\tG: NumPy array\n",
    "\t\tA NumPy array representing the starting state of workers.\n",
    "\n",
    "\tprob: dict\n",
    "\t\tA dict representing the transit matrix of the system.\n",
    "\n",
    "\tN: int\n",
    "\t\tThe number of workers.\n",
    "\n",
    "\tK: int\n",
    "\t\tThe number of timesteps.\n",
    "\t\"\"\"\n",
    "\tassert type(G) is np.ndarray\n",
    "\n",
    "\tchain = MarkovChain(transit_prob=prob)\n",
    "\n",
    "\tN = G.shape[0]\n",
    "\n",
    "\tfor n in range(N):\n",
    "\t\tG[n] = chain.generate_states(current_state=G[n], K=K)[K - 1]\n",
    "\n",
    "\treturn G"
   ]
  },
  {
   "cell_type": "markdown",
   "metadata": {},
   "source": [
    "**Test 1**\n",
    "\n",
    "Based on the framework above, we can set a transit matrix to simulate a 100-worker system with 200 timesteps in the first test and visualize the change of percentages along with the timesteps afterwards.\n",
    "\n",
    "In this case, we let the transit matrix be: \n",
    "\n",
    "T_MAT $= \\left[\\begin{array}{ccc}\n",
    "    0.8 & 0.2 \\\\\n",
    "    0.4 & 0.6\n",
    "\\end{array}\\right]$"
   ]
  },
  {
   "cell_type": "code",
   "execution_count": 5,
   "metadata": {},
   "outputs": [],
   "source": [
    "# Customized transit matrix (dict)\n",
    "T_MAT = {0: {0: 0.8, 1: 0.2}, \n",
    "         1: {0: 0.4, 1: 0.6}}\n",
    "\n",
    "# Total number of workers\n",
    "WORKER_NUM = 100\n",
    "\n",
    "# Total number of timesteps to simulate\n",
    "TIMESTEP = 200"
   ]
  },
  {
   "cell_type": "markdown",
   "metadata": {},
   "source": [
    "Run the Markov process. Calculate and save the percentage numbers for two behaviors at different timesteps."
   ]
  },
  {
   "cell_type": "code",
   "execution_count": 6,
   "metadata": {},
   "outputs": [],
   "source": [
    "# Create two NumPy arrays to save the results for both risk adverse workers and risk taking workers\n",
    "percent_risk_adverse = np.zeros(TIMESTEP, dtype=float)\n",
    "percent_risk_taking = np.zeros(TIMESTEP, dtype=float)\n",
    "\n",
    "### BEGIN SIMULATION\n",
    "\n",
    "for i in range(TIMESTEP):\n",
    "\tif i == 0:\n",
    "\t\tworkers = np.random.randint(2, size=WORKER_NUM)\n",
    "\telse:\n",
    "\t\tworkers = sim(G=workers, prob=T_MAT, K=1)\n",
    "\n",
    "\tpercent_risk_adverse[i] = 1e2 * count(risk_adverse(workers)) / WORKER_NUM\n",
    "\tpercent_risk_taking[i] = 1e2 * count(risk_taking(workers)) / WORKER_NUM\n",
    "\n",
    "### END SIMULATION"
   ]
  },
  {
   "cell_type": "code",
   "execution_count": 7,
   "metadata": {},
   "outputs": [
    {
     "name": "stdout",
     "output_type": "stream",
     "text": [
      "[48. 61. 63. 66. 65. 65. 65. 68. 71. 66. 72. 68. 72. 66. 65. 72. 74. 72.\n",
      " 75. 69. 62. 67. 66. 67. 72. 72. 61. 70. 67. 64. 63. 68. 72. 61. 62. 70.\n",
      " 67. 61. 60. 69. 69. 60. 65. 68. 76. 75. 67. 71. 68. 75. 70. 64. 62. 68.\n",
      " 66. 64. 60. 59. 57. 68. 65. 71. 69. 68. 74. 69. 66. 68. 65. 69. 71. 74.\n",
      " 63. 57. 62. 69. 66. 68. 72. 74. 71. 74. 75. 69. 63. 66. 62. 63. 65. 62.\n",
      " 71. 67. 67. 72. 69. 68. 59. 68. 68. 66. 76. 71. 63. 56. 63. 65. 66. 63.\n",
      " 74. 69. 61. 70. 70. 67. 66. 68. 65. 72. 68. 65. 70. 72. 70. 64. 61. 70.\n",
      " 70. 60. 61. 66. 62. 69. 64. 74. 76. 71. 61. 66. 65. 74. 63. 61. 64. 67.\n",
      " 67. 71. 64. 74. 67. 63. 62. 60. 58. 66. 64. 67. 68. 66. 65. 65. 70. 74.\n",
      " 74. 77. 72. 76. 67. 64. 67. 56. 57. 58. 61. 59. 61. 58. 68. 63. 67. 69.\n",
      " 67. 68. 62. 60. 67. 71. 71. 73. 72. 68. 64. 70. 67. 59. 65. 59. 71. 68.\n",
      " 68. 69.]\n",
      "[52. 39. 37. 34. 35. 35. 35. 32. 29. 34. 28. 32. 28. 34. 35. 28. 26. 28.\n",
      " 25. 31. 38. 33. 34. 33. 28. 28. 39. 30. 33. 36. 37. 32. 28. 39. 38. 30.\n",
      " 33. 39. 40. 31. 31. 40. 35. 32. 24. 25. 33. 29. 32. 25. 30. 36. 38. 32.\n",
      " 34. 36. 40. 41. 43. 32. 35. 29. 31. 32. 26. 31. 34. 32. 35. 31. 29. 26.\n",
      " 37. 43. 38. 31. 34. 32. 28. 26. 29. 26. 25. 31. 37. 34. 38. 37. 35. 38.\n",
      " 29. 33. 33. 28. 31. 32. 41. 32. 32. 34. 24. 29. 37. 44. 37. 35. 34. 37.\n",
      " 26. 31. 39. 30. 30. 33. 34. 32. 35. 28. 32. 35. 30. 28. 30. 36. 39. 30.\n",
      " 30. 40. 39. 34. 38. 31. 36. 26. 24. 29. 39. 34. 35. 26. 37. 39. 36. 33.\n",
      " 33. 29. 36. 26. 33. 37. 38. 40. 42. 34. 36. 33. 32. 34. 35. 35. 30. 26.\n",
      " 26. 23. 28. 24. 33. 36. 33. 44. 43. 42. 39. 41. 39. 42. 32. 37. 33. 31.\n",
      " 33. 32. 38. 40. 33. 29. 29. 27. 28. 32. 36. 30. 33. 41. 35. 41. 29. 32.\n",
      " 32. 31.]\n"
     ]
    }
   ],
   "source": [
    "print(percent_risk_adverse)\n",
    "print(percent_risk_taking)"
   ]
  },
  {
   "cell_type": "code",
   "execution_count": 8,
   "metadata": {},
   "outputs": [
    {
     "data": {
      "image/png": "[encoded data removed]",
      "text/plain": [
       "<Figure size 432x288 with 1 Axes>"
      ]
     },
     "metadata": {
      "needs_background": "light"
     },
     "output_type": "display_data"
    }
   ],
   "source": [
    "# Visualize the change of percentages of safety risk adverse workers\n",
    "fig, ax = plt.subplots(1, 1, figsize=(6, 4))\n",
    "ax.plot(percent_risk_adverse, lw=2)\n",
    "\n",
    "plt.xlim((0, 100))\n",
    "plt.ylim((0, 100))\n",
    "plt.xlabel('timestep')\n",
    "plt.ylabel('risk-adverse%')\n",
    "\n",
    "plt.show()"
   ]
  },
  {
   "cell_type": "code",
   "execution_count": 9,
   "metadata": {},
   "outputs": [
    {
     "data": {
      "image/png": "[encoded data removed]",
      "text/plain": [
       "<Figure size 432x288 with 1 Axes>"
      ]
     },
     "metadata": {
      "needs_background": "light"
     },
     "output_type": "display_data"
    }
   ],
   "source": [
    "# Visualize the change of percentages of safety risk taking workers\n",
    "fig, ax = plt.subplots(1, 1, figsize=(6, 4))\n",
    "ax.plot(percent_risk_taking, lw=2)\n",
    "\n",
    "plt.xlim((0, 100))\n",
    "plt.ylim((0, 100))\n",
    "plt.xlabel('timestep')\n",
    "plt.ylabel('risk-taking%')\n",
    "\n",
    "plt.show()"
   ]
  },
  {
   "cell_type": "markdown",
   "metadata": {},
   "source": [
    "From above, we can see that the percentages of two kinds of workers both fluctuate around a certain level. In order to specify the levels, we can run the simulation for 100 times and calculate the mean value of final percentage numbers as follow:"
   ]
  },
  {
   "cell_type": "code",
   "execution_count": 10,
   "metadata": {},
   "outputs": [
    {
     "name": "stdout",
     "output_type": "stream",
     "text": [
      "Safety-risk-adverse: 66.7%\n",
      "Safety-risk-taking: 33.3%\n"
     ]
    }
   ],
   "source": [
    "SIM_NUM = 100\n",
    "\n",
    "num_risk_adverse = np.zeros(SIM_NUM, dtype=int)\n",
    "num_risk_taking = np.zeros(SIM_NUM, dtype=int)\n",
    "\n",
    "\n",
    "### BEGIN SIMULATION\n",
    "\n",
    "for i in range(SIM_NUM):\n",
    "\n",
    "\t# Randomly enerate a NumPy array to represent the starting state of all the workers\n",
    "\tworkers = np.random.randint(2, size=WORKER_NUM)\n",
    "\n",
    "\tG = sim(G=workers, prob=T_MAT, K=TIMESTEP)\n",
    "\n",
    "\tnum_risk_adverse[i] = count(risk_adverse(G))\n",
    "\tnum_risk_taking[i] = count(risk_taking(G))\n",
    "\n",
    "### END SIMULATION\n",
    "\n",
    "# Calculate the percentages\n",
    "print(\"Safety-risk-adverse: {:.1f}%\".format(1e2 * np.mean(num_risk_adverse) / WORKER_NUM))\n",
    "print(\"Safety-risk-taking: {:.1f}%\".format(1e2 * np.mean(num_risk_taking) / WORKER_NUM))"
   ]
  },
  {
   "cell_type": "code",
   "execution_count": 11,
   "metadata": {},
   "outputs": [
    {
     "name": "stdout",
     "output_type": "stream",
     "text": [
      "PASS\n"
     ]
    }
   ],
   "source": [
    "# Chekc if the number of risk adverse workers plus that of risk taking ones equals to the total number.\n",
    "assert (num_risk_adverse + num_risk_taking == WORKER_NUM).all()\n",
    "print(\"PASS\")"
   ]
  },
  {
   "cell_type": "markdown",
   "metadata": {},
   "source": [
    "**Test 2**\n",
    "\n",
    "From the result of Test 1, we can find that the percentage numbers tend to fluctuate around a certain level, i.e. the mean value. It is reasonable to point out the question: is it starting state or transit matrix that affects the mean value of percentage numbers? \n",
    "\n",
    "Therefore, we set up the second test."
   ]
  },
  {
   "cell_type": "markdown",
   "metadata": {},
   "source": [
    "Setting the probability of safety-risk-taking to be 0.2 in the starting state, simulate the system and calculate the percentages of two different workers. "
   ]
  },
  {
   "cell_type": "code",
   "execution_count": 12,
   "metadata": {},
   "outputs": [
    {
     "name": "stdout",
     "output_type": "stream",
     "text": [
      "Safety-risk-adverse: 66.6%\n",
      "Safety-risk-taking: 33.4%\n"
     ]
    }
   ],
   "source": [
    "# The probability of a single worker to be risk-taking at the starting timestep\n",
    "p = 0.2\n",
    "\n",
    "# Initialize\n",
    "num_risk_adverse = np.zeros(SIM_NUM, dtype=int)\n",
    "num_risk_taking = np.zeros(SIM_NUM, dtype=int)\n",
    "\n",
    "\n",
    "def random_pick(value_list, prob):\n",
    "    \"\"\"\n",
    "    Return a value in the value_list in accordance to the corresponding probability.\n",
    "    \n",
    "    Parameters\n",
    "    ----------\n",
    "    value_list: list\n",
    "        A list comprising all the possible values.\n",
    "        e.g. [0, 1, 2, 3]\n",
    "    \n",
    "    prob: tuple\n",
    "        A tuple comprising the appearing probability corresponding to value_list.\n",
    "        e.g. (0.1, 0.4, 0.2, 0.3)\n",
    "    \"\"\"\n",
    "    x = random.uniform(0, 1)\n",
    "    sum_prob = 0.0\n",
    "    for item, item_prob in zip(value_list, prob):\n",
    "        sum_prob += item_prob\n",
    "        if x < sum_prob:\n",
    "            break\n",
    "    return item\n",
    "\n",
    "\n",
    "### BEGIN SIMULATION\n",
    "\n",
    "for i in range(SIM_NUM):\n",
    "\n",
    "    W = np.zeros(WORKER_NUM, dtype=int)\n",
    "    \n",
    "    # Generate a NumPy array to represent the starting state, given the probability of 1 as 0.2\n",
    "    for j in range(WORKER_NUM):\n",
    "        W[j] = random_pick([0, 1], (1-p, p))\n",
    "        \n",
    "    G = sim(G=W, prob=T_MAT, K=TIMESTEP)\n",
    "\n",
    "    num_risk_adverse[i] = count(risk_adverse(G))\n",
    "    num_risk_taking[i] = count(risk_taking(G))\n",
    "\n",
    "### END SIMULATION\n",
    "\n",
    "\n",
    "# Calculate the percentages\n",
    "print(\"Safety-risk-adverse: {:.1f}%\".format(1e2 * np.mean(num_risk_adverse) / WORKER_NUM))\n",
    "print(\"Safety-risk-taking: {:.1f}%\".format(1e2 * np.mean(num_risk_taking) / WORKER_NUM))"
   ]
  },
  {
   "cell_type": "markdown",
   "metadata": {},
   "source": [
    "Shown as the results in Test 2, the percentage numbers of both kinds of workers are actually the same as the previous test, which leads us to focus on the transit matrix."
   ]
  },
  {
   "cell_type": "markdown",
   "metadata": {},
   "source": [
    "Suppose the transit matrix of the system to be $\\left[\\begin{array}{ccc}\n",
    "    0.2 & 0.8 \\\\\n",
    "    0.3 & 0.7\n",
    "\\end{array}\\right]$, simulate the system and calculate the percentages of two different workers again. "
   ]
  },
  {
   "cell_type": "code",
   "execution_count": 13,
   "metadata": {},
   "outputs": [
    {
     "name": "stdout",
     "output_type": "stream",
     "text": [
      "Safety-risk-adverse: 27.1%\n",
      "Safety-risk-taking: 72.8%\n"
     ]
    }
   ],
   "source": [
    "T_MAT = {0: {0: 0.2, 1: 0.8}, \n",
    "         1: {0: 0.3, 1: 0.7}}\n",
    "\n",
    "# Initialize\n",
    "num_risk_adverse = np.zeros(SIM_NUM, dtype=int)\n",
    "num_risk_taking = np.zeros(SIM_NUM, dtype=int)\n",
    "\n",
    "\n",
    "### BEGIN SIMULATION\n",
    "\n",
    "for i in range(SIM_NUM):\n",
    "\n",
    "    W_prime = np.random.randint(2, size=WORKER_NUM)\n",
    "    \n",
    "    G = sim(G=W_prime, prob=T_MAT, K=TIMESTEP)\n",
    "\n",
    "    num_risk_adverse[i] = count(risk_adverse(G))\n",
    "    num_risk_taking[i] = count(risk_taking(G))\n",
    "\n",
    "### END SIMULATION\n",
    "\n",
    "\n",
    "# Calculate the percentages\n",
    "print(\"Safety-risk-adverse: {:.1f}%\".format(1e2 * np.mean(num_risk_adverse) / WORKER_NUM))\n",
    "print(\"Safety-risk-taking: {:.1f}%\".format(1e2 * np.mean(num_risk_taking) / WORKER_NUM))"
   ]
  },
  {
   "cell_type": "markdown",
   "metadata": {},
   "source": [
    "Based on the results of both Test 1 and Test 2, we may draw a conclusion that the mean value of percentage numbers is mainly decided by the transit matrix. \n",
    "\n",
    "Furthermore, suppose the transit matrix is $T^{2\\times 2}$, the mean value of risk adverse workers $(0)$ is $\\frac{T_{11} + T_{21}}{2}$ and that of risk taking workers $(1)$ is $\\frac{T_{12} + T_{22}}{2}$"
   ]
  }
 ],
 "metadata": {
  "kernelspec": {
   "display_name": "Python 3",
   "language": "python",
   "name": "python3"
  },
  "language_info": {
   "codemirror_mode": {
    "name": "ipython",
    "version": 3
   },
   "file_extension": ".py",
   "mimetype": "text/x-python",
   "name": "python",
   "nbconvert_exporter": "python",
   "pygments_lexer": "ipython3",
   "version": "3.7.1"
  }
 },
 "nbformat": 4,
 "nbformat_minor": 2
}
